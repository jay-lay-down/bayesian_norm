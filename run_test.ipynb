# ===== 1) 필요 라이브러리 설치 =====
# !pip install "pymc>=5,<6" "arviz>=0.16" openpyxl pandas

# ===== 2) 모듈 불러오기 및 실행 =====
import os
import zipfile
import time
import hb_module as HB  # 파일로 분리한 모듈을 바로 import

# 테스트용 데이터 경로 지정
DATA_PATH = os.path.join("data", "sample_dataset.xlsx")

# FAST 프리셋으로 테스트 실행
out_xlsx, _ = HB.run_all(
    DATA_PATH,
    seed=2025,
    draws=600, tune=600, chains=2,              # 빠르게
    include_bxj=False,                          # 상호작용 off
    adj_limit=30,                               # 형용사 제한
    cores=2,                                    # CPU 코어 수
)

print(f"테스트 완료. 결과 파일: {out_xlsx}")

# ===== 3) 결과물 압축 (선택 사항) =====
ts = time.strftime("%Y%m%d_%H%MS")
zip_path = f"hb_outputs_fast_{ts}.zip"
with zipfile.ZipFile(zip_path, "w", compression=zipfile.ZIP_DEFLATED) as z:
    z.write(out_xlsx, arcname=os.path.basename(out_xlsx))

print(f"결과를 {zip_path} 파일로 압축했습니다.")
